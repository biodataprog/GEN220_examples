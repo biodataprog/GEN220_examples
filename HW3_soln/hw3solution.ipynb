{
 "cells": [
  {
   "cell_type": "code",
   "execution_count": 39,
   "id": "b5f91870-b743-44f3-8c8e-5e1d04f3bd93",
   "metadata": {},
   "outputs": [
    {
     "name": "stdout",
     "output_type": "stream",
     "text": [
      "['A', 'B', 'C', 'D', 'E', 'F']\n"
     ]
    }
   ],
   "source": [
    "inputfile = \"individuals.txt\"\n",
    "individuals = []\n",
    "num_cols = 4  # you could make this something the user passes in or computed from the data\n",
    "with open(inputfile, \"r\") as input:\n",
    "    for line in input:\n",
    "        line = line.strip()\n",
    "        #print(line) # you need to change this to save the data in array individuals\n",
    "        # now read in the individuals and add them to the array\n",
    "        # individuals\n",
    "        individuals.append(line)\n",
    "print(individuals)\n"
   ]
  },
  {
   "cell_type": "code",
   "execution_count": 40,
   "id": "28208cdb-1f5b-4213-8ab2-b1886dce1338",
   "metadata": {},
   "outputs": [
    {
     "name": "stdout",
     "output_type": "stream",
     "text": [
      "['AA', 'AB', 'AC', 'AD', 'AE', 'AF', 'BB', 'BC', 'BD', 'BE', 'BF', 'CC', 'CD', 'CE', 'CF', 'DD', 'DE', 'DF', 'EE', 'EF', 'FF']\n",
      "21\n"
     ]
    }
   ],
   "source": [
    "# now generate pairwise combination of all the individuals\n",
    "combinations = []\n",
    "for x in range(len(individuals)):\n",
    "    for y in range(x, len(individuals)):\n",
    "        #print(\"indexes are {} and {}, change this code to get to the actual individual name\".format(individuals[x], \n",
    "        #                                                  individuals[y]))\n",
    "        combo = individuals[x]+individuals[y]\n",
    "        #print(combo)\n",
    "        combinations.append(combo)\n",
    "        # add this string in the array combinations\n",
    "print(combinations)\n",
    "print(len(combinations))"
   ]
  },
  {
   "cell_type": "code",
   "execution_count": 43,
   "id": "75863b7e-6300-456e-8fbf-6ed4cde795de",
   "metadata": {},
   "outputs": [
    {
     "name": "stdout",
     "output_type": "stream",
     "text": [
      ",Col1,Col2,Col3,Col4\n",
      "Row1,AA,AB,AC,AD\n",
      "Row2,AE,AF,BB,BC\n",
      "Row3,BD,BE,BF,CC\n",
      "Row4,CD,CE,CF,DD\n",
      "Row5,DE,DF,EE,EF\n",
      "Row6,FF\n"
     ]
    }
   ],
   "source": [
    "# first print col headers\n",
    "colheader=[\"\"]  # can leave first col empty since it is for the rows\n",
    "for col in range(1,num_cols+1):\n",
    "    colheader.append(\"Col{}\".format(col))\n",
    "\n",
    "print(\",\".join(colheader))\n",
    "i=0\n",
    "for row in range(0,len(combinations),num_cols):\n",
    "    start = i*num_cols\n",
    "    end   = (i+1)*num_cols\n",
    "    #print(\"start={} .. end={} == {}\".format(start,end,\n",
    "    #                                       combinations[start:end]))\n",
    "    rowtoprint=[ \"Row{}\".format(i+1) ]\n",
    "    rowtoprint.extend(combinations[start:end])\n",
    "    print(\",\".join(rowtoprint))\n",
    "    i+=1"
   ]
  },
  {
   "cell_type": "code",
   "execution_count": 9,
   "id": "c24d7268-95c2-47c5-a667-587bea2bc836",
   "metadata": {},
   "outputs": [
    {
     "name": "stdout",
     "output_type": "stream",
     "text": [
      "[1, 2, 3, [4, 5]]\n",
      "4\n"
     ]
    }
   ],
   "source": [
    "# example of append vs extend\n",
    "a=[1,2,3]\n",
    "b=[4,5]\n",
    "c=[]\n",
    "c.extend(a)\n",
    "c.append(b)\n",
    "print(c)\n",
    "print(len(c))"
   ]
  },
  {
   "cell_type": "code",
   "execution_count": 45,
   "id": "0ecc2f52-8050-47ba-8243-24f3ae0e3826",
   "metadata": {},
   "outputs": [
    {
     "name": "stdout",
     "output_type": "stream",
     "text": [
      ",Col1,Col2,Col3,Col4\n",
      "Row1,AA,AB,AC,AD\n",
      "Row2,AE,AF,BB,BC\n",
      "Row3,BD,BE,BF,CC\n",
      "Row4,CD,CE,CF,DD\n",
      "Row5,DE,DF,EE,EF\n",
      "Row6,FF\n"
     ]
    }
   ],
   "source": [
    "# first print col headers\n",
    "colheader=[\"\"]  # can leave first col empty since it is for the rows\n",
    "for col in range(1,num_cols+1):\n",
    "    colheader.append(\"Col{}\".format(col))\n",
    "\n",
    "print(\",\".join(colheader))\n",
    "i=0\n",
    "for row in range(0,len(combinations),num_cols):\n",
    "    start = i*num_cols\n",
    "    end   = (i+1)*num_cols\n",
    "    #print(\"start={} .. end={} == {}\".format(start,end,\n",
    "    #                                       combinations[start:end]))\n",
    "    print(\"Row{}\".format(i+1),end =\",\")\n",
    "    print(\",\".join(combinations[start:end]))\n",
    "    i+=1\n",
    "    \n",
    "   \n"
   ]
  },
  {
   "cell_type": "code",
   "execution_count": 61,
   "id": "c1d48e35-d555-4931-9f02-2a803320e898",
   "metadata": {},
   "outputs": [
    {
     "name": "stdout",
     "output_type": "stream",
     "text": [
      ",Col1,Col2,Col3,Col4\n",
      "|Row1|AB|BE|DD|DE|\n",
      "|----------------|\n",
      "|Row2|AC|AE|AF|EF|\n",
      "|----------------|\n",
      "|Row3|AA|DF|CD|BB|\n",
      "|----------------|\n",
      "|Row4|FF|BC|CC|CF|\n",
      "|----------------|\n",
      "|Row5|AD|BF|EE|CE|\n",
      "|----------------|\n",
      "|Row6|BD|\n",
      "|----------------|\n"
     ]
    }
   ],
   "source": [
    "import random\n",
    "random.shuffle(combinations)\n",
    "# first print col headers\n",
    "colheader=[\"\"]  # can leave first col empty since it is for the rows\n",
    "for col in range(1,num_cols+1):\n",
    "    colheader.append(\"Col{}\".format(col))\n",
    "\n",
    "print(\",\".join(colheader))\n",
    "i=0\n",
    "for row in range(0,len(combinations),num_cols):\n",
    "    start = i*num_cols\n",
    "    end   = (i+1)*num_cols\n",
    "    #print(\"start={} .. end={} == {}\".format(start,end,\n",
    "    #                                       combinations[start:end]))\n",
    "    print(\"|Row{}\".format(i+1),end =\"|\")\n",
    "    print(\"|\".join(combinations[start:end]),end=\"|\\n\")\n",
    "    print(\"|\"+\"-\"*16+\"|\")\n",
    "    i+=1"
   ]
  },
  {
   "cell_type": "code",
   "execution_count": 54,
   "id": "11facb90-f9dc-4500-a488-a7da0f97456f",
   "metadata": {},
   "outputs": [],
   "source": [
    "import random\n",
    "import csv\n",
    "random.shuffle(combinations)\n",
    "# first print col headers\n",
    "colheader=[\"\"]  # can leave first col empty since it is for the rows\n",
    "for col in range(1,num_cols+1):\n",
    "    colheader.append(\"Col{}\".format(col))\n",
    "\n",
    "\n",
    "i=0\n",
    "with open(\"samples_rand.csv\",\"w\") as fh:\n",
    "    fh.write(\"this is a message\\n\")\n",
    "    csvout = csv.writer(fh,delimiter=\",\")\n",
    "    csvout.writerow(colheader)\n",
    "    for row in range(0,len(combinations),num_cols):\n",
    "        start = i*num_cols\n",
    "        end   = (i+1)*num_cols\n",
    "        rowtoprint=[ \"Row{}\".format(i+1) ]\n",
    "        rowtoprint.extend(combinations[start:end])\n",
    "        csvout.writerow(rowtoprint)\n",
    "        i+=1\n"
   ]
  },
  {
   "cell_type": "code",
   "execution_count": 69,
   "id": "37097e95-216a-4d57-8026-65c76f978bd8",
   "metadata": {},
   "outputs": [],
   "source": [
    "import random\n",
    "import csv\n",
    "random.shuffle(combinations)\n",
    "# first print col headers\n",
    "colheader=[\"\"]  # can leave first col empty since it is for the rows\n",
    "for col in range(1,num_cols+1):\n",
    "    colheader.append(\"Col{}\".format(col))\n",
    "\n",
    "\n",
    "i=0\n",
    "with open(\"samples_rand.psv\",\"w\") as fh:\n",
    "    fh.write(\"|\".join(colheader)+\"|\\n\")\n",
    "    i=0\n",
    "    for row in range(0,len(combinations),num_cols):\n",
    "        start = i*num_cols\n",
    "        end   = (i+1)*num_cols\n",
    "    #print(\"start={} .. end={} == {}\".format(start,end,\n",
    "    #                                       combinations[start:end]))\n",
    "        fh.write(\"|Row{}|\".format(i+1))\n",
    "        fh.write(\"|\".join(combinations[start:end])+\"|\\n\")\n",
    "        fh.write(\"|\"+\"-\"*16+\"|\\n\")\n",
    "        i += 1"
   ]
  },
  {
   "cell_type": "code",
   "execution_count": null,
   "id": "f590d27b-cf31-4ca1-baef-069c8e53a33d",
   "metadata": {},
   "outputs": [],
   "source": []
  }
 ],
 "metadata": {
  "kernelspec": {
   "display_name": "Python 3 (ipykernel)",
   "language": "python",
   "name": "python3"
  },
  "language_info": {
   "codemirror_mode": {
    "name": "ipython",
    "version": 3
   },
   "file_extension": ".py",
   "mimetype": "text/x-python",
   "name": "python",
   "nbconvert_exporter": "python",
   "pygments_lexer": "ipython3",
   "version": "3.9.7"
  }
 },
 "nbformat": 4,
 "nbformat_minor": 5
}
