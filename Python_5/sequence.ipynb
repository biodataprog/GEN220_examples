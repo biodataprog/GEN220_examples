{
 "cells": [
  {
   "cell_type": "code",
   "execution_count": 1,
   "id": "bdbd6d21-a371-45e5-a746-ed328b85f050",
   "metadata": {},
   "outputs": [],
   "source": [
    "import argparse"
   ]
  },
  {
   "cell_type": "code",
   "execution_count": 2,
   "id": "f76274af-4e51-4a56-bc9b-44d0aaf5c6aa",
   "metadata": {},
   "outputs": [],
   "source": [
    "import csv"
   ]
  },
  {
   "cell_type": "code",
   "execution_count": 15,
   "id": "10b48231-a1fa-4d4e-8a0f-0fe7cf980997",
   "metadata": {},
   "outputs": [
    {
     "name": "stdout",
     "output_type": "stream",
     "text": [
      "The first line from uncompressed\n",
      ">Q5R654.1 RecName: Full=Histone-binding protein RBBP7; AltName: Full=Nucleosome-remodeling factor subunit RBAP46; AltName: Full=Retinoblastoma-binding protein 7; Short=RBBP-7 [Pongo abelii]\n",
      "\n"
     ]
    }
   ],
   "source": [
    "import gzip\n",
    "import os\n",
    "url=\"https://ftp.ncbi.nlm.nih.gov/blast/db/v5/FASTA/swissprot.gz\"\n",
    "file=os.path.basename(url)\n",
    "\n",
    "if not os.path.exists(file):\n",
    "    os.system(\"curl -O \"+url)\n",
    "\n",
    "with gzip.open(file,\"rt\") as fh:\n",
    "    for line in fh:\n",
    "        print(\"The first line from uncompressed\")\n",
    "        print(line)\n",
    "        break"
   ]
  },
  {
   "cell_type": "code",
   "execution_count": 28,
   "id": "d1a7759b-bb0c-40f5-acf9-0cfc30f82a02",
   "metadata": {},
   "outputs": [
    {
     "name": "stdout",
     "output_type": "stream",
     "text": [
      "ID   LRK56_ARATH             Reviewed;         523 AA.\n"
     ]
    },
    {
     "name": "stderr",
     "output_type": "stream",
     "text": [
      "  % Total    % Received % Xferd  Average Speed   Time    Time     Time  Current\n",
      "                                 Dload  Upload   Total   Spent    Left  Speed\n",
      "  0     0    0     0    0     0      0      0 --:--:-- --:--:-- --:--:--     0\n",
      "  0     0    0     0    0     0      0      0 --:--:--  0:00:01 --:--:--     0\n",
      "  0     0    0     0    0     0      0      0 --:--:--  0:00:01 --:--:--     0\n"
     ]
    },
    {
     "name": "stdout",
     "output_type": "stream",
     "text": [
      "ID   LRK56_ARATH             Reviewed;         523 AA.\n",
      "AC   Q9LEA3;\n",
      "DT   11-JAN-2011, integrated into UniProtKB/Swiss-Prot.\n",
      "DT   08-MAR-2011, sequence version 3.\n",
      "DT   12-OCT-2022, entry version 147.\n",
      "DE   RecName: Full=Putative L-type lectin-domain containing receptor kinase V.6;\n",
      "DE            Short=Arabidopsis thaliana lectin-receptor kinase a2;\n",
      "DE            Short=AthlecRK-a2;\n",
      "DE            Short=LecRK-V.6;\n",
      "DE            EC=2.7.11.1;\n",
      "DE   Flags: Precursor;\n",
      "GN   Name=LECRK56; Synonyms=LECRKA2; OrderedLocusNames=At3g59730;\n",
      "GN   ORFNames=T16L24.280;\n",
      "OS   Arabidopsis thaliana (Mouse-ear cress).\n",
      "OC   Eukaryota; Viridiplantae; Streptophyta; Embryophyta; Tracheophyta;\n",
      "OC   Spermatophyta; Magnoliopsida; eudicotyledons; Gunneridae; Pentapetalae;\n",
      "OC   rosids; malvids; Brassicales; Brassicaceae; Camelineae; Arabidopsis.\n",
      "OX   NCBI_TaxID=3702;\n",
      "RN   [1]\n",
      "RP   NUCLEOTIDE SEQUENCE [LARGE SCALE GENOMIC DNA].\n",
      "RC   STRAIN=cv. Columbia;\n",
      "RX   PubMed=11130713; DOI=10.1038/35048706;\n",
      "RA   Salanoubat M., Lemcke K., Rieger M., Ansorge W., Unseld M., Fartmann B.,\n",
      "RA   Valle G., Bloecker H., Perez-Alonso M., Obermaier B., Delseny M.,\n",
      "RA   Boutry M., Grivell L.A., Mache R., Puigdomenech P., De Simone V.,\n",
      "RA   Choisne N., Artiguenave F., Robert C., Brottier P., Wincker P.,\n",
      "RA   Cattolico L., Weissenbach J., Saurin W., Quetier F., Schaefer M.,\n",
      "RA   Mueller-Auer S., Gabel C., Fuchs M., Benes V., Wurmbach E., Drzonek H.,\n",
      "RA   Erfle H., Jordan N., Bangert S., Wiedelmann R., Kranz H., Voss H.,\n",
      "RA   Holland R., Brandt P., Nyakatura G., Vezzi A., D'Angelo M., Pallavicini A.,\n",
      "RA   Toppo S., Simionati B., Conrad A., Hornischer K., Kauer G., Loehnert T.-H.,\n",
      "RA   Nordsiek G., Reichelt J., Scharfe M., Schoen O., Bargues M., Terol J.,\n",
      "RA   Climent J., Navarro P., Collado C., Perez-Perez A., Ottenwaelder B.,\n",
      "RA   Duchemin D., Cooke R., Laudie M., Berger-Llauro C., Purnelle B., Masuy D.,\n",
      "RA   de Haan M., Maarse A.C., Alcaraz J.-P., Cottet A., Casacuberta E.,\n",
      "RA   Monfort A., Argiriou A., Flores M., Liguori R., Vitale D., Mannhaupt G.,\n",
      "RA   Haase D., Schoof H., Rudd S., Zaccaria P., Mewes H.-W., Mayer K.F.X.,\n",
      "RA   Kaul S., Town C.D., Koo H.L., Tallon L.J., Jenkins J., Rooney T., Rizzo M.,\n",
      "RA   Walts A., Utterback T., Fujii C.Y., Shea T.P., Creasy T.H., Haas B.,\n",
      "RA   Maiti R., Wu D., Peterson J., Van Aken S., Pai G., Militscher J.,\n",
      "RA   Sellers P., Gill J.E., Feldblyum T.V., Preuss D., Lin X., Nierman W.C.,\n",
      "RA   Salzberg S.L., White O., Venter J.C., Fraser C.M., Kaneko T., Nakamura Y.,\n",
      "RA   Sato S., Kato T., Asamizu E., Sasamoto S., Kimura T., Idesawa K.,\n",
      "RA   Kawashima K., Kishida Y., Kiyokawa C., Kohara M., Matsumoto M., Matsuno A.,\n",
      "RA   Muraki A., Nakayama S., Nakazaki N., Shinpo S., Takeuchi C., Wada T.,\n",
      "RA   Watanabe A., Yamada M., Yasuda M., Tabata S.;\n",
      "RT   \"Sequence and analysis of chromosome 3 of the plant Arabidopsis thaliana.\";\n",
      "RL   Nature 408:820-822(2000).\n",
      "RN   [2]\n",
      "RP   GENOME REANNOTATION.\n",
      "RC   STRAIN=cv. Columbia;\n",
      "RX   PubMed=27862469; DOI=10.1111/tpj.13415;\n",
      "RA   Cheng C.Y., Krishnakumar V., Chan A.P., Thibaud-Nissen F., Schobel S.,\n",
      "RA   Town C.D.;\n",
      "RT   \"Araport11: a complete reannotation of the Arabidopsis thaliana reference\n",
      "RT   genome.\";\n",
      "RL   Plant J. 89:789-804(2017).\n",
      "RN   [3]\n",
      "RP   GENE FAMILY.\n",
      "RX   PubMed=10350082; DOI=10.1023/a:1006136701595;\n",
      "RA   Herve C., Serres J., Dabos P., Canut H., Barre A., Rouge P., Lescure B.;\n",
      "RT   \"Characterization of the Arabidopsis lecRK-a genes: members of a\n",
      "RT   superfamily encoding putative receptors with an extracellular domain\n",
      "RT   homologous to legume lectins.\";\n",
      "RL   Plant Mol. Biol. 39:671-682(1999).\n",
      "RN   [4]\n",
      "RP   GENE FAMILY.\n",
      "RX   DOI=10.1080/0735-260291044287;\n",
      "RA   Barre A., Herve C., Lescure B., Rouge P.;\n",
      "RT   \"Lectin receptor kinases in plants.\";\n",
      "RL   Crit. Rev. Plant Sci. 21:379-399(2002).\n",
      "RN   [5]\n",
      "RP   GENE FAMILY, AND NOMENCLATURE.\n",
      "RX   PubMed=19773388; DOI=10.1093/jxb/erp277;\n",
      "RA   Bouwmeester K., Govers F.;\n",
      "RT   \"Arabidopsis L-type lectin receptor kinases: phylogeny, classification, and\n",
      "RT   expression profiles.\";\n",
      "RL   J. Exp. Bot. 60:4383-4396(2009).\n",
      "CC   -!- CATALYTIC ACTIVITY:\n",
      "CC       Reaction=ATP + L-seryl-[protein] = ADP + H(+) + O-phospho-L-seryl-\n",
      "CC         [protein]; Xref=Rhea:RHEA:17989, Rhea:RHEA-COMP:9863, Rhea:RHEA-\n",
      "CC         COMP:11604, ChEBI:CHEBI:15378, ChEBI:CHEBI:29999, ChEBI:CHEBI:30616,\n",
      "CC         ChEBI:CHEBI:83421, ChEBI:CHEBI:456216; EC=2.7.11.1;\n",
      "CC   -!- CATALYTIC ACTIVITY:\n",
      "CC       Reaction=ATP + L-threonyl-[protein] = ADP + H(+) + O-phospho-L-\n",
      "CC         threonyl-[protein]; Xref=Rhea:RHEA:46608, Rhea:RHEA-COMP:11060,\n",
      "CC         Rhea:RHEA-COMP:11605, ChEBI:CHEBI:15378, ChEBI:CHEBI:30013,\n",
      "CC         ChEBI:CHEBI:30616, ChEBI:CHEBI:61977, ChEBI:CHEBI:456216;\n",
      "CC         EC=2.7.11.1;\n",
      "CC   -!- SUBCELLULAR LOCATION: Cell membrane {ECO:0000250}; Single-pass type I\n",
      "CC       membrane protein {ECO:0000250}.\n",
      "CC   -!- SIMILARITY: In the C-terminal section; belongs to the protein kinase\n",
      "CC       superfamily. Ser/Thr protein kinase family. {ECO:0000305}.\n",
      "CC   -!- SIMILARITY: In the N-terminal section; belongs to the leguminous lectin\n",
      "CC       family. {ECO:0000305}.\n",
      "CC   -!- CAUTION: The C-terminal part of the kinase domain is truncated.\n",
      "CC       {ECO:0000305}.\n",
      "CC   ---------------------------------------------------------------------------\n",
      "CC   Copyrighted by the UniProt Consortium, see https://www.uniprot.org/terms\n",
      "CC   Distributed under the Creative Commons Attribution (CC BY 4.0) License\n",
      "CC   ---------------------------------------------------------------------------\n",
      "DR   EMBL; AL138659; CAB75470.1; -; Genomic_DNA.\n",
      "DR   EMBL; CP002686; AEE79959.1; -; Genomic_DNA.\n",
      "DR   PIR; T49314; T49314.\n",
      "DR   RefSeq; NP_191532.1; NM_115835.2.\n",
      "DR   AlphaFoldDB; Q9LEA3; -.\n",
      "DR   SMR; Q9LEA3; -.\n",
      "DR   BioGRID; 10456; 10.\n",
      "DR   IntAct; Q9LEA3; 10.\n",
      "DR   PaxDb; Q9LEA3; -.\n",
      "DR   EnsemblPlants; AT3G59730.1; AT3G59730.1; AT3G59730.\n",
      "DR   GeneID; 825142; -.\n",
      "DR   Gramene; AT3G59730.1; AT3G59730.1; AT3G59730.\n",
      "DR   KEGG; ath:AT3G59730; -.\n",
      "DR   Araport; AT3G59730; -.\n",
      "DR   TAIR; locus:2097528; AT3G59730.\n",
      "DR   HOGENOM; CLU_000288_62_3_1; -.\n",
      "DR   InParanoid; Q9LEA3; -.\n",
      "DR   OMA; ASYEIAF; -.\n",
      "DR   OrthoDB; 684563at2759; -.\n",
      "DR   PhylomeDB; Q9LEA3; -.\n",
      "DR   PRO; PR:Q9LEA3; -.\n",
      "DR   Proteomes; UP000006548; Chromosome 3.\n",
      "DR   ExpressionAtlas; Q9LEA3; baseline and differential.\n",
      "DR   Genevisible; Q9LEA3; AT.\n",
      "DR   GO; GO:0016021; C:integral component of membrane; IEA:UniProtKB-KW.\n",
      "DR   GO; GO:0005886; C:plasma membrane; ISS:UniProtKB.\n",
      "DR   GO; GO:0005524; F:ATP binding; IEA:UniProtKB-KW.\n",
      "DR   GO; GO:0030246; F:carbohydrate binding; IEA:UniProtKB-KW.\n",
      "DR   GO; GO:0106310; F:protein serine kinase activity; IEA:RHEA.\n",
      "DR   GO; GO:0004675; F:transmembrane receptor protein serine/threonine kinase activity; IBA:GO_Central.\n",
      "DR   GO; GO:0042742; P:defense response to bacterium; IBA:GO_Central.\n",
      "DR   GO; GO:0002229; P:defense response to oomycetes; IBA:GO_Central.\n",
      "DR   GO; GO:0006468; P:protein phosphorylation; IEA:InterPro.\n",
      "DR   CDD; cd06899; lectin_legume_LecRK_Arcelin_ConA; 1.\n",
      "DR   InterPro; IPR013320; ConA-like_dom_sf.\n",
      "DR   InterPro; IPR011009; Kinase-like_dom_sf.\n",
      "DR   InterPro; IPR001220; Legume_lectin_dom.\n",
      "DR   InterPro; IPR000719; Prot_kinase_dom.\n",
      "DR   InterPro; IPR017441; Protein_kinase_ATP_BS.\n",
      "DR   InterPro; IPR008271; Ser/Thr_kinase_AS.\n",
      "DR   Pfam; PF00139; Lectin_legB; 1.\n",
      "DR   Pfam; PF00069; Pkinase; 1.\n",
      "DR   SMART; SM00220; S_TKc; 1.\n",
      "DR   SUPFAM; SSF49899; SSF49899; 1.\n",
      "DR   SUPFAM; SSF56112; SSF56112; 1.\n",
      "DR   PROSITE; PS00107; PROTEIN_KINASE_ATP; 1.\n",
      "DR   PROSITE; PS50011; PROTEIN_KINASE_DOM; 1.\n",
      "DR   PROSITE; PS00108; PROTEIN_KINASE_ST; 1.\n",
      "PE   3: Inferred from homology;\n",
      "KW   ATP-binding; Cell membrane; Glycoprotein; Kinase; Lectin; Membrane;\n",
      "KW   Nucleotide-binding; Receptor; Reference proteome;\n",
      "KW   Serine/threonine-protein kinase; Signal; Transferase; Transmembrane;\n",
      "KW   Transmembrane helix.\n",
      "FT   SIGNAL          1..27\n",
      "FT                   /evidence=\"ECO:0000255\"\n",
      "FT   CHAIN           28..523\n",
      "FT                   /note=\"Putative L-type lectin-domain containing receptor\n",
      "FT                   kinase V.6\"\n",
      "FT                   /id=\"PRO_0000403094\"\n",
      "FT   TOPO_DOM        28..279\n",
      "FT                   /note=\"Extracellular\"\n",
      "FT                   /evidence=\"ECO:0000255\"\n",
      "FT   TRANSMEM        280..300\n",
      "FT                   /note=\"Helical\"\n",
      "FT                   /evidence=\"ECO:0000255\"\n",
      "FT   TOPO_DOM        301..523\n",
      "FT                   /note=\"Cytoplasmic\"\n",
      "FT                   /evidence=\"ECO:0000255\"\n",
      "FT   DOMAIN          335..523\n",
      "FT                   /note=\"Protein kinase\"\n",
      "FT                   /evidence=\"ECO:0000255|PROSITE-ProRule:PRU00159\"\n",
      "FT   REGION          28..242\n",
      "FT                   /note=\"Legume-lectin like\"\n",
      "FT   ACT_SITE        464\n",
      "FT                   /note=\"Proton acceptor\"\n",
      "FT                   /evidence=\"ECO:0000255|PROSITE-ProRule:PRU00159,\n",
      "FT                   ECO:0000255|PROSITE-ProRule:PRU10027\"\n",
      "FT   BINDING         341..349\n",
      "FT                   /ligand=\"ATP\"\n",
      "FT                   /ligand_id=\"ChEBI:CHEBI:30616\"\n",
      "FT                   /evidence=\"ECO:0000255|PROSITE-ProRule:PRU00159\"\n",
      "FT   BINDING         364\n",
      "FT                   /ligand=\"ATP\"\n",
      "FT                   /ligand_id=\"ChEBI:CHEBI:30616\"\n",
      "FT                   /evidence=\"ECO:0000255|PROSITE-ProRule:PRU00159\"\n",
      "FT   CARBOHYD        47\n",
      "FT                   /note=\"N-linked (GlcNAc...) asparagine\"\n",
      "FT                   /evidence=\"ECO:0000255\"\n",
      "FT   CARBOHYD        59\n",
      "FT                   /note=\"N-linked (GlcNAc...) asparagine\"\n",
      "FT                   /evidence=\"ECO:0000255\"\n",
      "FT   CARBOHYD        112\n",
      "FT                   /note=\"N-linked (GlcNAc...) asparagine\"\n",
      "FT                   /evidence=\"ECO:0000255\"\n",
      "FT   CARBOHYD        171\n",
      "FT                   /note=\"N-linked (GlcNAc...) asparagine\"\n",
      "FT                   /evidence=\"ECO:0000255\"\n",
      "SQ   SEQUENCE   523 AA;  59313 MW;  26C7286B2DB10AD3 CRC64;\n",
      "MFSEVKVLQI VLVQWLTLFS FTYNSHGTYI LDGSAVFNEN SYLVLTNTTK HSYGQAFDNT\n",
      "TFEMKDQSFS INFFFAIVPE HKQQGSHGMT FAFSPTRGLP GASSDQYLGL FNKTNNGKTS\n",
      "NHVIAIELDI HKDEEFEDID DNHVGINING LRSVASASAG YYDDNDGSFK NLSLISGKLM\n",
      "RLSIVYSHPD TKLDVTLCPA EFLVPPRKPL LSLNRDLSQY VLKHMHIGFT ASTGSIRALH\n",
      "YMVLVYTYPE AVYQPLEFGR VPTLPPYPKK PSDRLRTVLA VCLTLALFAV FLASGIGFVF\n",
      "YLRHKKVKEV LEEWEIQCGP HRFSYKELFN ATKGFKEKQL LGKGGFGQVY KGTLPGSDAE\n",
      "IAVKRTSHDS RQGMSEFLAE ISTIGRLRHP NLVRLLGYCK HKENLYLVYD FMPNGSLDKY\n",
      "LNRSNTNENQ ERLTWEQRFK IIKDVASALL HLHQEWVQVI IHRDIKPANV LIDHDMNARL\n",
      "GDFGLAKLYD QGFDPQTSRV AGTFGYIAPE FLRTGRAVRV KFF\n",
      "//\n"
     ]
    },
    {
     "name": "stderr",
     "output_type": "stream",
     "text": [
      "100 10416  100 10416    0     0   6789      0  0:00:01  0:00:01 --:--:--     0\n"
     ]
    }
   ],
   "source": [
    "import urllib.request\n",
    "url=\"https://www.uniprot.org/uniprot/LRK56_ARATH.txt\"\n",
    "seqdata = urllib.request.urlopen(url)\n",
    "for line in seqdata:\n",
    "    linestrip = line.decode('UTF-8').strip()\n",
    "    print(linestrip)\n",
    "    break\n",
    "os.system(\"curl -L -O \"+url)\n",
    "with open(os.path.basename(url),\"r\") as fh:\n",
    "    for line in fh:\n",
    "        print(line.strip())"
   ]
  },
  {
   "cell_type": "code",
   "execution_count": 30,
   "id": "6c000d8a-f4f0-46a2-9ddd-b828b462b33e",
   "metadata": {},
   "outputs": [
    {
     "name": "stdout",
     "output_type": "stream",
     "text": [
      "ATGAGTACACTAGGGTAA\n"
     ]
    }
   ],
   "source": [
    "import Bio\n",
    "from Bio.Seq import Seq\n",
    "my_seq = Seq(\"ATGAGTACACTAGGGTAA\")\n",
    "print(my_seq)"
   ]
  },
  {
   "cell_type": "code",
   "execution_count": 58,
   "id": "d107bbc5-da52-44ea-a77d-16d102602af1",
   "metadata": {},
   "outputs": [
    {
     "name": "stdout",
     "output_type": "stream",
     "text": [
      "revcom is TTACCCTAGTGTACTCAT\n",
      "MSTLG*\n",
      "tr|E3Q6S8|E3Q6S8_COLGM\n",
      "tr|E3Q6S8|E3Q6S8_COLGM RNAse P Rpr2/Rpp21/SNM1 subunit domain-containing protein OS=Colletotrichum graminicola (strain M1.001 / M2 / FGSC 10212) OX=645133 GN=GLRG_02386 PE=4 SV=1\n",
      "RNAse P Rpr2/Rpp21/SNM1 subunit domain-containing protein OS=Colletotrichum graminicola (strain M1.001 / M2 / FGSC 10212) OX=645133 GN=GLRG_02386 PE=4 SV=1\n",
      "MAKPKSESLPNRHAYTRVSYLHQAAAYLATVQSPTSDSTTNSSQPGHAPHAVDHERCLETNETVARRFVSDIRAVSLKAQIRPSPSLKQMMCKYCDSLLVEGKTCSTTVENASKGGKKPWADVMVTKCKTCGNVKRFPVSAPRQKRRPFREQKAVEGQDTTPAVSEMSTGAD\n",
      "172\n",
      "{'M': 5, 'A': 17, 'K': 14, 'P': 12, 'S': 18, 'E': 9, 'L': 8, 'N': 5, 'R': 12, 'H': 5, 'Y': 4, 'T': 15, 'V': 14, 'Q': 8, 'D': 7, 'G': 7, 'C': 6, 'F': 3, 'I': 2, 'W': 1}\n",
      "M\t 2.907%\n",
      "A\t 9.884%\n",
      "K\t 8.140%\n",
      "P\t 6.977%\n",
      "S\t10.465%\n",
      "E\t 5.233%\n",
      "L\t 4.651%\n",
      "N\t 2.907%\n",
      "R\t 6.977%\n",
      "H\t 2.907%\n",
      "Y\t 2.326%\n",
      "T\t 8.721%\n",
      "V\t 8.140%\n",
      "Q\t 4.651%\n",
      "D\t 4.070%\n",
      "G\t 4.070%\n",
      "C\t 3.488%\n",
      "F\t 1.744%\n",
      "I\t 1.163%\n",
      "W\t 0.581%\n"
     ]
    }
   ],
   "source": [
    "rc = my_seq.reverse_complement()\n",
    "pep = my_seq.translate()\n",
    "print(\"revcom is\", rc)\n",
    "print(pep)\n",
    "\n",
    "import Bio\n",
    "from Bio import SeqIO\n",
    "from Bio.Seq import Seq\n",
    "\n",
    "# seqfile\n",
    "filename = \"/bigdata/gen220/shared/data/E3Q6S8.fasta\"\n",
    "for seq_record in SeqIO.parse( filename , \"fasta\"):\n",
    "    print(seq_record.id)\n",
    "    print(seq_record.description)\n",
    "    print(seq_record.description.split(\" \",1)[1])\n",
    "    #print(repr(seq_record.seq))\n",
    "    print(seq_record.seq)\n",
    "    print(len(seq_record))\n",
    "    freqtable = {}\n",
    "    for base in seq_record:\n",
    "        if base not in freqtable:\n",
    "            freqtable[base] = 0\n",
    "        freqtable[base] += 1\n",
    "    print(freqtable)\n",
    "    totallen = len(seq_record)\n",
    "    for aa in freqtable:\n",
    "        print(\"%s\\t%6.3f%%\"%(aa,100 * freqtable[aa]/totallen))"
   ]
  },
  {
   "cell_type": "code",
   "execution_count": 65,
   "id": "2acbaacc-bc53-43c2-9fdb-381c805afaa9",
   "metadata": {},
   "outputs": [
    {
     "name": "stdout",
     "output_type": "stream",
     "text": [
      "Anidulans FungiDB-59_AnidulansFGSCA4_AnnotatedProteins.fasta\n",
      "Msympodialis FungiDB-59_MsympodialisATCC42132_AnnotatedProteins.fasta\n",
      "Anidulans\tMsympodialis\n"
     ]
    }
   ],
   "source": [
    "import Bio\n",
    "from Bio import SeqIO\n",
    "from Bio.Seq import Seq\n",
    "\n",
    "url1=\"https://fungidb.org/common/downloads/release-59/AnidulansFGSCA4/fasta/data/FungiDB-59_AnidulansFGSCA4_AnnotatedProteins.fasta\"\n",
    "file1=os.path.basename(url1)\n",
    "url2='https://fungidb.org/common/downloads/release-59/MsympodialisATCC42132/fasta/data/FungiDB-59_MsympodialisATCC42132_AnnotatedProteins.fasta'\n",
    "file2=os.path.basename(url2)\n",
    "if not os.path.exists(file1):\n",
    "    os.system(\"curl -O \"+url1)\n",
    "if not os.path.exists(file2):\n",
    "    os.system(\"curl -O \"+url2)\n",
    "\n",
    "names = {'Anidulans': file1,\n",
    "         'Msympodialis': file2 }\n",
    "\n",
    "freqtable = {}\n",
    "for organism in names:    \n",
    "    print(organism, names[organism])\n",
    "    freqtable[organism] = {}\n",
    "    ft = {}\n",
    "    totallen = 0\n",
    "    for seq_record in SeqIO.parse( names[organism] , \"fasta\"):\n",
    "        for base in seq_record:\n",
    "            if base not in ft:\n",
    "                freqtable[organism][base] = 0\n",
    "                ft[base] = 0\n",
    "            freqtable[organism][base] += 1\n",
    "            ft[base] += 1\n",
    "        totallen += len(seq_record)\n",
    "    for base in freqtable[organism]:\n",
    "        freqtable[organism][base] /= totallen\n",
    "print(\"\\t\".join(freqtable.keys()))\n"
   ]
  },
  {
   "cell_type": "code",
   "execution_count": 85,
   "id": "dc3641b5-3c50-441b-b95c-b959ea7de7ab",
   "metadata": {},
   "outputs": [
    {
     "name": "stdout",
     "output_type": "stream",
     "text": [
      "AA\tAnidulans\tMsympodialis\n",
      "A 8.548730608660824 10.966681420424361\n",
      "C 1.261380617133702 1.2268741561156415\n",
      "D 5.548772973056244 5.675020217421756\n",
      "E 6.184258160923082 6.037747839633665\n",
      "F 3.7240036664458582 3.1383435543010636\n",
      "G 6.799331412814075 6.10608652922251\n",
      "H 2.367283903070263 2.937937102448512\n",
      "I 5.018948438679463 3.6061972942891325\n",
      "K 4.559429544159106 3.536336983583051\n",
      "L 9.165922080322893 9.978343751216737\n",
      "M 2.0621254602313868 2.5036485341641983\n",
      "N 3.6774028314821376 2.580311386335574\n",
      "P 5.976480057923682 6.607281673102975\n",
      "Q 4.007768089596845 4.217665215606999\n",
      "R 6.257375256112027 7.126064966956207\n",
      "S 8.385608429744428 7.4763510988565915\n",
      "T 5.959303221234576 5.522321062950808\n",
      "V 6.141354582287061 6.765575022857882\n",
      "W 1.4635935790981776 1.4585185944338204\n",
      "Y 2.890927087024171 2.5326935960785137\n"
     ]
    }
   ],
   "source": [
    "header = [\"AA\"]\n",
    "names = []\n",
    "for n in freqtable.keys():\n",
    "    names.append(n)\n",
    "header.extend(names)\n",
    "print(\"\\t\".join(header))\n",
    "\n",
    "for aa in sorted(freqtable[names[0]]):\n",
    "    print(aa, 100*freqtable[ names[0]][aa],100*freqtable[names[1]][aa] )"
   ]
  },
  {
   "cell_type": "code",
   "execution_count": 86,
   "id": "ae1f5432-6569-429f-962b-12d00372b481",
   "metadata": {},
   "outputs": [
    {
     "data": {
      "text/plain": [
       "Seq('AAG')"
      ]
     },
     "execution_count": 86,
     "metadata": {},
     "output_type": "execute_result"
    }
   ],
   "source": [
    "Seq(\"AAG\")"
   ]
  },
  {
   "cell_type": "code",
   "execution_count": 87,
   "id": "38a6f52a-9cb4-4573-b405-5e83b415e476",
   "metadata": {},
   "outputs": [
    {
     "data": {
      "text/plain": [
       "Seq('AAG111')"
      ]
     },
     "execution_count": 87,
     "metadata": {},
     "output_type": "execute_result"
    }
   ],
   "source": [
    "Seq('AAG111')"
   ]
  },
  {
   "cell_type": "code",
   "execution_count": 88,
   "id": "498f02f0-6402-48fd-8d8b-23859da9924a",
   "metadata": {},
   "outputs": [
    {
     "data": {
      "text/plain": [
       "Seq('AAG..6^')"
      ]
     },
     "execution_count": 88,
     "metadata": {},
     "output_type": "execute_result"
    }
   ],
   "source": [
    "Seq('AAG..6^')"
   ]
  },
  {
   "cell_type": "code",
   "execution_count": 89,
   "id": "9e18a81b-1f8f-4d63-9aa0-8b8c5591d6f6",
   "metadata": {},
   "outputs": [
    {
     "data": {
      "text/plain": [
       "Seq('2211CTT')"
      ]
     },
     "execution_count": 89,
     "metadata": {},
     "output_type": "execute_result"
    }
   ],
   "source": [
    "Seq('AAG1122').reverse_complement()"
   ]
  },
  {
   "cell_type": "code",
   "execution_count": null,
   "id": "c24e1084-a298-4d75-b91c-fed7ad3f9d26",
   "metadata": {},
   "outputs": [],
   "source": [
    "Seq('AAG1122').reverse_complement()"
   ]
  }
 ],
 "metadata": {
  "kernelspec": {
   "display_name": "Python 3 (ipykernel)",
   "language": "python",
   "name": "python3"
  },
  "language_info": {
   "codemirror_mode": {
    "name": "ipython",
    "version": 3
   },
   "file_extension": ".py",
   "mimetype": "text/x-python",
   "name": "python",
   "nbconvert_exporter": "python",
   "pygments_lexer": "ipython3",
   "version": "3.9.7"
  }
 },
 "nbformat": 4,
 "nbformat_minor": 5
}
