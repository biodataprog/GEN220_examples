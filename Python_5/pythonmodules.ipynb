{
 "cells": [
  {
   "cell_type": "code",
   "execution_count": 1,
   "id": "d1092dcf-2c05-473c-b9db-55eb33243418",
   "metadata": {},
   "outputs": [],
   "source": [
    "from BCBio import GFF"
   ]
  },
  {
   "cell_type": "code",
   "execution_count": 2,
   "id": "4d36915e-3448-4a78-ba43-aff544347abb",
   "metadata": {},
   "outputs": [
    {
     "name": "stderr",
     "output_type": "stream",
     "text": [
      "  % Total    % Received % Xferd  Average Speed   Time    Time     Time  Current\n",
      "                                 Dload  Upload   Total   Spent    Left  Speed\n",
      "100 3254k  100 3254k    0     0  2250k      0  0:00:01  0:00:01 --:--:-- 2251k\n"
     ]
    }
   ],
   "source": [
    "import os\n",
    "gffurl=\"https://fungidb.org/common/downloads/release-45/ScerevisiaeS288c/gff/data/FungiDB-45_ScerevisiaeS288c.gff\"\n",
    "in_file = os.path.basename(gffurl)\n",
    "\n",
    "if not os.path.exists(in_file):\n",
    "    os.system(\"curl -O \"+gffurl)"
   ]
  },
  {
   "cell_type": "code",
   "execution_count": 3,
   "id": "6bae89d8-7e3f-4855-9533-2f3dffbff5f8",
   "metadata": {},
   "outputs": [],
   "source": [
    "from BCBio import GFF\n",
    "filter_options = dict(\n",
    "        gff_id = [\"BK006934\"], # this specifies the names of the chromosome/contigs you want to include\n",
    "        gff_type = [\"CDS\"], # this limits the type of features to include\n",
    "        gff_source = [\"EuPathDB\"])"
   ]
  },
  {
   "cell_type": "code",
   "execution_count": 4,
   "id": "3bc7c488-9790-46ed-93f2-6bc6d929d228",
   "metadata": {},
   "outputs": [
    {
     "name": "stdout",
     "output_type": "stream",
     "text": [
      "type: CDS\n",
      "location: [214532:214718](-)\n",
      "id: YHR055C-t26_1-p1-CDS1\n",
      "qualifiers:\n",
      "    Key: ID, Value: ['YHR055C-t26_1-p1-CDS1']\n",
      "    Key: Parent, Value: ['YHR055C-t26_1']\n",
      "    Key: phase, Value: ['0']\n",
      "    Key: protein_source_id, Value: ['YHR055C-t26_1-p1']\n",
      "    Key: source, Value: ['EuPathDB']\n",
      "\n"
     ]
    }
   ],
   "source": [
    "in_handle = open(in_file)\n",
    "for rec in GFF.parse(in_handle, limit_info=filter_options):\n",
    "    for feat in rec.features:\n",
    "      # this prints out the feature object\n",
    "      # this prints out a default options which provides some default printing\n",
    "        print(feat)\n",
    "        break  # this stops after the first feature, just printing out\n",
    "in_handle.close()"
   ]
  },
  {
   "cell_type": "code",
   "execution_count": null,
   "id": "697ef4df-8cdd-460d-a86a-f48e7dc6061a",
   "metadata": {},
   "outputs": [],
   "source": []
  }
 ],
 "metadata": {
  "kernelspec": {
   "display_name": "Python (GEN220)",
   "language": "python",
   "name": "gen220"
  },
  "language_info": {
   "codemirror_mode": {
    "name": "ipython",
    "version": 3
   },
   "file_extension": ".py",
   "mimetype": "text/x-python",
   "name": "python",
   "nbconvert_exporter": "python",
   "pygments_lexer": "ipython3",
   "version": "3.9.7"
  }
 },
 "nbformat": 4,
 "nbformat_minor": 5
}
